{
 "cells": [
  {
   "cell_type": "markdown",
   "id": "4d280ddc-cf85-4240-886f-10f3994ad44f",
   "metadata": {},
   "source": [
    "# Day_1"
   ]
  },
  {
   "cell_type": "markdown",
   "id": "f8488caa-b458-4aee-8bc6-226cb57f47da",
   "metadata": {},
   "source": [
    "## Array"
   ]
  },
  {
   "cell_type": "code",
   "execution_count": 1,
   "id": "0debabd2-445c-4e96-b19c-ae459e10bce9",
   "metadata": {},
   "outputs": [],
   "source": [
    "import numpy as np"
   ]
  },
  {
   "cell_type": "code",
   "execution_count": 2,
   "id": "c905d054-1c5e-4202-9dcd-4eac1397b4fe",
   "metadata": {},
   "outputs": [],
   "source": [
    "x = [1,2,3,4]\n",
    "y = np.array(x)"
   ]
  },
  {
   "cell_type": "code",
   "execution_count": 3,
   "id": "1b12bad0-5574-417c-a71c-9dca94058a0f",
   "metadata": {},
   "outputs": [
    {
     "name": "stdout",
     "output_type": "stream",
     "text": [
      "<class 'numpy.ndarray'>\n"
     ]
    }
   ],
   "source": [
    "print(type(y))"
   ]
  },
  {
   "cell_type": "code",
   "execution_count": 4,
   "id": "ebb4cc2d-8f96-463a-a985-0e803b8e4cd4",
   "metadata": {},
   "outputs": [
    {
     "ename": "ValueError",
     "evalue": "invalid literal for int() with base 10: ''",
     "output_type": "error",
     "traceback": [
      "\u001b[0;31m---------------------------------------------------------------------------\u001b[0m",
      "\u001b[0;31mValueError\u001b[0m                                Traceback (most recent call last)",
      "Cell \u001b[0;32mIn[4], line 3\u001b[0m\n\u001b[1;32m      1\u001b[0m l \u001b[39m=\u001b[39m []\n\u001b[1;32m      2\u001b[0m \u001b[39mfor\u001b[39;00m i \u001b[39min\u001b[39;00m \u001b[39mrange\u001b[39m(\u001b[39m1\u001b[39m,\u001b[39m5\u001b[39m):\n\u001b[0;32m----> 3\u001b[0m     int_1 \u001b[39m=\u001b[39m \u001b[39mint\u001b[39;49m(\u001b[39minput\u001b[39;49m(\u001b[39m'\u001b[39;49m\u001b[39mEnter the data\u001b[39;49m\u001b[39m'\u001b[39;49m))\n\u001b[1;32m      4\u001b[0m     l\u001b[39m.\u001b[39mappend(int_1)\n\u001b[1;32m      5\u001b[0m \u001b[39mprint\u001b[39m(np\u001b[39m.\u001b[39marray(l))\n",
      "\u001b[0;31mValueError\u001b[0m: invalid literal for int() with base 10: ''"
     ]
    }
   ],
   "source": [
    "l = []\n",
    "for i in range(1,5):\n",
    "    int_1 = int(input('Enter the data'))\n",
    "    l.append(int_1)\n",
    "print(np.array(l))"
   ]
  },
  {
   "cell_type": "code",
   "execution_count": null,
   "id": "93d5522c",
   "metadata": {},
   "outputs": [
    {
     "name": "stdout",
     "output_type": "stream",
     "text": [
      "1\n"
     ]
    }
   ],
   "source": [
    "print(y.ndim)"
   ]
  },
  {
   "cell_type": "code",
   "execution_count": null,
   "id": "28beeeb7",
   "metadata": {},
   "outputs": [],
   "source": [
    "d1 = np.array([1,2,3,4,5,6,7])\n",
    "d2 = np.array([[1,2,3,4,5,6,7]])\n",
    "d3 = np.array([[[1,2,3,4,5,6]]])"
   ]
  },
  {
   "cell_type": "code",
   "execution_count": null,
   "id": "7d69e45d",
   "metadata": {},
   "outputs": [
    {
     "name": "stdout",
     "output_type": "stream",
     "text": [
      "2\n",
      "3\n"
     ]
    }
   ],
   "source": [
    "print(d2.ndim)\n",
    "print(d3.ndim)"
   ]
  },
  {
   "cell_type": "code",
   "execution_count": 5,
   "id": "85b4dd56",
   "metadata": {},
   "outputs": [
    {
     "name": "stdout",
     "output_type": "stream",
     "text": [
      "[[1 2 3]\n",
      " [1 2 3]]\n",
      "2\n"
     ]
    }
   ],
   "source": [
    "d2 = np.array([[1,2,3],[1,2,3]])\n",
    "print(d2)\n",
    "print(d2.ndim)"
   ]
  },
  {
   "cell_type": "code",
   "execution_count": 6,
   "id": "743dabcd",
   "metadata": {},
   "outputs": [
    {
     "name": "stdout",
     "output_type": "stream",
     "text": [
      "[[[1 2 3]\n",
      "  [1 2 3]\n",
      "  [1 2 3]]]\n",
      "3\n"
     ]
    }
   ],
   "source": [
    "d3 = np.array([[[1,2,3],[1,2,3],[1,2,3]]])\n",
    "print(d3)\n",
    "print(d3.ndim)"
   ]
  },
  {
   "cell_type": "code",
   "execution_count": 7,
   "id": "a7015499",
   "metadata": {},
   "outputs": [
    {
     "name": "stdout",
     "output_type": "stream",
     "text": [
      "[[[[[[[[[[1 2 3 4]]]]]]]]]]\n",
      "10\n"
     ]
    }
   ],
   "source": [
    "dn = np.array([1,2,3,4],ndmin=10)\n",
    "print(dn)\n",
    "print(dn.ndim)"
   ]
  },
  {
   "attachments": {},
   "cell_type": "markdown",
   "id": "342e40ea",
   "metadata": {},
   "source": [
    "## Zeros"
   ]
  },
  {
   "cell_type": "code",
   "execution_count": 8,
   "id": "10a707de",
   "metadata": {},
   "outputs": [
    {
     "name": "stdout",
     "output_type": "stream",
     "text": [
      "[0. 0. 0. 0.]\n",
      "[[0. 0. 0. 0.]\n",
      " [0. 0. 0. 0.]\n",
      " [0. 0. 0. 0.]]\n"
     ]
    }
   ],
   "source": [
    "ar_zero = np.zeros(4)\n",
    "ar_zero1 = np.zeros((3,4),float)\n",
    "print(ar_zero)\n",
    "print(ar_zero1)"
   ]
  },
  {
   "attachments": {},
   "cell_type": "markdown",
   "id": "ea226bf9",
   "metadata": {},
   "source": [
    "## Ones "
   ]
  },
  {
   "cell_type": "code",
   "execution_count": 9,
   "id": "e67f3878",
   "metadata": {},
   "outputs": [
    {
     "name": "stdout",
     "output_type": "stream",
     "text": [
      "[1. 1. 1. 1.]\n",
      "[[1. 1. 1. 1.]\n",
      " [1. 1. 1. 1.]\n",
      " [1. 1. 1. 1.]]\n"
     ]
    }
   ],
   "source": [
    "ar_one = np.ones(4)\n",
    "ar_ones1 = np.ones((3,4))\n",
    "print(ar_one)\n",
    "print(ar_ones1)"
   ]
  },
  {
   "cell_type": "markdown",
   "id": "dad16a2a",
   "metadata": {},
   "source": [
    "## Empty Array"
   ]
  },
  {
   "cell_type": "code",
   "execution_count": 10,
   "id": "f60e2190",
   "metadata": {},
   "outputs": [
    {
     "name": "stdout",
     "output_type": "stream",
     "text": [
      "[1. 1. 1. 1.]\n"
     ]
    }
   ],
   "source": [
    "empty = np.empty(4) \n",
    "print(empty)"
   ]
  },
  {
   "attachments": {},
   "cell_type": "markdown",
   "id": "809378aa",
   "metadata": {},
   "source": [
    "## Range"
   ]
  },
  {
   "cell_type": "code",
   "execution_count": 11,
   "id": "33ee2b33",
   "metadata": {},
   "outputs": [
    {
     "name": "stdout",
     "output_type": "stream",
     "text": [
      "[0 1 2 3]\n"
     ]
    }
   ],
   "source": [
    "ar_rn = np.arange(4)\n",
    "print(ar_rn)"
   ]
  },
  {
   "cell_type": "code",
   "execution_count": 12,
   "id": "af1c5cf7",
   "metadata": {},
   "outputs": [],
   "source": [
    "## Diagnol"
   ]
  },
  {
   "cell_type": "code",
   "execution_count": null,
   "id": "990e1a80",
   "metadata": {},
   "outputs": [],
   "source": []
  },
  {
   "cell_type": "code",
   "execution_count": 13,
   "id": "8ddc4a1e",
   "metadata": {},
   "outputs": [
    {
     "name": "stdout",
     "output_type": "stream",
     "text": [
      "[[1. 0. 0.]\n",
      " [0. 1. 0.]\n",
      " [0. 0. 1.]]\n",
      "[[1. 0. 0.]\n",
      " [0. 1. 0.]\n",
      " [0. 0. 1.]\n",
      " [0. 0. 0.]\n",
      " [0. 0. 0.]]\n"
     ]
    }
   ],
   "source": [
    "ar_dia = np.eye(3)\n",
    "ar_dia_2 = np.eye(5,3)\n",
    "print(ar_dia)\n",
    "print(ar_dia_2)\n"
   ]
  },
  {
   "cell_type": "markdown",
   "id": "81141a46",
   "metadata": {},
   "source": [
    "## Linespace"
   ]
  },
  {
   "cell_type": "code",
   "execution_count": 19,
   "id": "c1f0a80b",
   "metadata": {},
   "outputs": [
    {
     "name": "stdout",
     "output_type": "stream",
     "text": [
      "[ 1.  2.  3.  4.  5.  6.  7.  8.  9. 10. 11. 12. 13. 14. 15. 16. 17. 18.\n",
      " 19. 20.]\n"
     ]
    }
   ],
   "source": [
    "ar_lin = np.linspace(1,20,num= 20,)\n",
    "print(ar_lin)"
   ]
  },
  {
   "cell_type": "markdown",
   "id": "bd2743c6",
   "metadata": {},
   "source": [
    "## Random"
   ]
  },
  {
   "cell_type": "code",
   "execution_count": null,
   "id": "9052b0e3",
   "metadata": {},
   "outputs": [],
   "source": []
  }
 ],
 "metadata": {
  "kernelspec": {
   "display_name": "Python 3 (ipykernel)",
   "language": "python",
   "name": "python3"
  },
  "language_info": {
   "codemirror_mode": {
    "name": "ipython",
    "version": 3
   },
   "file_extension": ".py",
   "mimetype": "text/x-python",
   "name": "python",
   "nbconvert_exporter": "python",
   "pygments_lexer": "ipython3",
   "version": "3.8.16"
  }
 },
 "nbformat": 4,
 "nbformat_minor": 5
}
