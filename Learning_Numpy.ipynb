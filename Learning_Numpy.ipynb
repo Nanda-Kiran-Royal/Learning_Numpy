{
 "cells": [
  {
   "cell_type": "markdown",
   "id": "4d280ddc-cf85-4240-886f-10f3994ad44f",
   "metadata": {},
   "source": [
    "# Day_1"
   ]
  },
  {
   "cell_type": "markdown",
   "id": "f8488caa-b458-4aee-8bc6-226cb57f47da",
   "metadata": {},
   "source": [
    "## Array"
   ]
  },
  {
   "cell_type": "code",
   "execution_count": 1,
   "id": "0debabd2-445c-4e96-b19c-ae459e10bce9",
   "metadata": {},
   "outputs": [],
   "source": [
    "import numpy as np"
   ]
  },
  {
   "cell_type": "code",
   "execution_count": 2,
   "id": "c905d054-1c5e-4202-9dcd-4eac1397b4fe",
   "metadata": {},
   "outputs": [],
   "source": [
    "x = [1,2,3,4]\n",
    "y = np.array(x)"
   ]
  },
  {
   "cell_type": "code",
   "execution_count": 3,
   "id": "1b12bad0-5574-417c-a71c-9dca94058a0f",
   "metadata": {},
   "outputs": [
    {
     "name": "stdout",
     "output_type": "stream",
     "text": [
      "<class 'numpy.ndarray'>\n"
     ]
    }
   ],
   "source": [
    "print(type(y))"
   ]
  },
  {
   "cell_type": "code",
   "execution_count": 4,
   "id": "ebb4cc2d-8f96-463a-a985-0e803b8e4cd4",
   "metadata": {},
   "outputs": [
    {
     "name": "stdout",
     "output_type": "stream",
     "text": [
      "[ 1  2  3 44]\n"
     ]
    }
   ],
   "source": [
    "l = []\n",
    "for i in range(1,5):\n",
    "    int_1 = int(input('Enter the data'))\n",
    "    l.append(int_1)\n",
    "print(np.array(l))"
   ]
  },
  {
   "cell_type": "code",
   "execution_count": 5,
   "id": "93d5522c",
   "metadata": {},
   "outputs": [
    {
     "name": "stdout",
     "output_type": "stream",
     "text": [
      "1\n"
     ]
    }
   ],
   "source": [
    "print(y.ndim)"
   ]
  },
  {
   "cell_type": "code",
   "execution_count": 6,
   "id": "28beeeb7",
   "metadata": {},
   "outputs": [],
   "source": [
    "d1 = np.array([1,2,3,4,5,6,7])\n",
    "d2 = np.array([[1,2,3,4,5,6,7]])\n",
    "d3 = np.array([[[1,2,3,4,5,6]]])"
   ]
  },
  {
   "cell_type": "code",
   "execution_count": 7,
   "id": "7d69e45d",
   "metadata": {},
   "outputs": [
    {
     "name": "stdout",
     "output_type": "stream",
     "text": [
      "2\n",
      "3\n"
     ]
    }
   ],
   "source": [
    "print(d2.ndim)\n",
    "print(d3.ndim)"
   ]
  },
  {
   "cell_type": "code",
   "execution_count": 8,
   "id": "85b4dd56",
   "metadata": {},
   "outputs": [
    {
     "name": "stdout",
     "output_type": "stream",
     "text": [
      "[[1 2 3]\n",
      " [1 2 3]]\n",
      "2\n"
     ]
    }
   ],
   "source": [
    "d2 = np.array([[1,2,3],[1,2,3]])\n",
    "print(d2)\n",
    "print(d2.ndim)"
   ]
  },
  {
   "cell_type": "code",
   "execution_count": 9,
   "id": "743dabcd",
   "metadata": {},
   "outputs": [
    {
     "name": "stdout",
     "output_type": "stream",
     "text": [
      "[[[1 2 3]\n",
      "  [1 2 3]\n",
      "  [1 2 3]]]\n",
      "3\n"
     ]
    }
   ],
   "source": [
    "d3 = np.array([[[1,2,3],[1,2,3],[1,2,3]]])\n",
    "print(d3)\n",
    "print(d3.ndim)"
   ]
  },
  {
   "cell_type": "code",
   "execution_count": 10,
   "id": "a7015499",
   "metadata": {},
   "outputs": [
    {
     "name": "stdout",
     "output_type": "stream",
     "text": [
      "[[[[[[[[[[1 2 3 4]]]]]]]]]]\n",
      "10\n"
     ]
    }
   ],
   "source": [
    "dn = np.array([1,2,3,4],ndmin=10)\n",
    "print(dn)\n",
    "print(dn.ndim)"
   ]
  },
  {
   "attachments": {},
   "cell_type": "markdown",
   "id": "342e40ea",
   "metadata": {},
   "source": [
    "## Zeros"
   ]
  },
  {
   "cell_type": "code",
   "execution_count": 11,
   "id": "10a707de",
   "metadata": {},
   "outputs": [
    {
     "name": "stdout",
     "output_type": "stream",
     "text": [
      "[0. 0. 0. 0.]\n",
      "[[0. 0. 0. 0.]\n",
      " [0. 0. 0. 0.]\n",
      " [0. 0. 0. 0.]]\n"
     ]
    }
   ],
   "source": [
    "ar_zero = np.zeros(4)\n",
    "ar_zero1 = np.zeros((3,4),float)\n",
    "print(ar_zero)\n",
    "print(ar_zero1)"
   ]
  },
  {
   "attachments": {},
   "cell_type": "markdown",
   "id": "ea226bf9",
   "metadata": {},
   "source": [
    "## Ones "
   ]
  },
  {
   "cell_type": "code",
   "execution_count": 12,
   "id": "e67f3878",
   "metadata": {},
   "outputs": [
    {
     "name": "stdout",
     "output_type": "stream",
     "text": [
      "[1. 1. 1. 1.]\n",
      "[[1. 1. 1. 1.]\n",
      " [1. 1. 1. 1.]\n",
      " [1. 1. 1. 1.]]\n"
     ]
    }
   ],
   "source": [
    "ar_one = np.ones(4)\n",
    "ar_ones1 = np.ones((3,4))\n",
    "print(ar_one)\n",
    "print(ar_ones1)"
   ]
  },
  {
   "cell_type": "markdown",
   "id": "dad16a2a",
   "metadata": {},
   "source": [
    "## Empty Array"
   ]
  },
  {
   "cell_type": "code",
   "execution_count": 13,
   "id": "f60e2190",
   "metadata": {},
   "outputs": [
    {
     "name": "stdout",
     "output_type": "stream",
     "text": [
      "[1. 1. 1. 1.]\n"
     ]
    }
   ],
   "source": [
    "empty = np.empty(4) \n",
    "print(empty)"
   ]
  },
  {
   "attachments": {},
   "cell_type": "markdown",
   "id": "809378aa",
   "metadata": {},
   "source": [
    "## Range"
   ]
  },
  {
   "cell_type": "code",
   "execution_count": 14,
   "id": "33ee2b33",
   "metadata": {},
   "outputs": [
    {
     "name": "stdout",
     "output_type": "stream",
     "text": [
      "[0 1 2 3]\n"
     ]
    }
   ],
   "source": [
    "ar_rn = np.arange(4)\n",
    "print(ar_rn)"
   ]
  },
  {
   "cell_type": "code",
   "execution_count": 15,
   "id": "af1c5cf7",
   "metadata": {},
   "outputs": [],
   "source": [
    "## Diagnol"
   ]
  },
  {
   "cell_type": "code",
   "execution_count": null,
   "id": "990e1a80",
   "metadata": {},
   "outputs": [],
   "source": []
  },
  {
   "cell_type": "code",
   "execution_count": 16,
   "id": "8ddc4a1e",
   "metadata": {},
   "outputs": [
    {
     "name": "stdout",
     "output_type": "stream",
     "text": [
      "[[1. 0. 0.]\n",
      " [0. 1. 0.]\n",
      " [0. 0. 1.]]\n",
      "[[1. 0. 0.]\n",
      " [0. 1. 0.]\n",
      " [0. 0. 1.]\n",
      " [0. 0. 0.]\n",
      " [0. 0. 0.]]\n"
     ]
    }
   ],
   "source": [
    "ar_dia = np.eye(3)\n",
    "ar_dia_2 = np.eye(5,3)\n",
    "print(ar_dia)\n",
    "print(ar_dia_2)\n"
   ]
  },
  {
   "cell_type": "markdown",
   "id": "81141a46",
   "metadata": {},
   "source": [
    "## Linespace"
   ]
  },
  {
   "cell_type": "code",
   "execution_count": 17,
   "id": "c1f0a80b",
   "metadata": {},
   "outputs": [
    {
     "name": "stdout",
     "output_type": "stream",
     "text": [
      "[ 1.  2.  3.  4.  5.  6.  7.  8.  9. 10. 11. 12. 13. 14. 15. 16. 17. 18.\n",
      " 19. 20.]\n"
     ]
    }
   ],
   "source": [
    "ar_lin = np.linspace(1,20,num= 20,)\n",
    "print(ar_lin)"
   ]
  },
  {
   "cell_type": "markdown",
   "id": "bd2743c6",
   "metadata": {},
   "source": [
    "## Random"
   ]
  },
  {
   "cell_type": "markdown",
   "id": "9052b0e3",
   "metadata": {},
   "source": [
    "## Rand()"
   ]
  },
  {
   "cell_type": "code",
   "execution_count": 18,
   "id": "72edb4f9",
   "metadata": {},
   "outputs": [
    {
     "name": "stdout",
     "output_type": "stream",
     "text": [
      "[0.83352504 0.88043174 0.3751178  0.16327302]\n"
     ]
    }
   ],
   "source": [
    "var = np.random.rand(4)\n",
    "print(var)"
   ]
  },
  {
   "cell_type": "code",
   "execution_count": 19,
   "id": "12267028",
   "metadata": {},
   "outputs": [
    {
     "data": {
      "text/plain": [
       "array([[0.56686569, 0.66742147, 0.49313951, 0.99516581, 0.6240897 ],\n",
       "       [0.33784166, 0.78853984, 0.56155474, 0.76880237, 0.90185195]])"
      ]
     },
     "execution_count": 19,
     "metadata": {},
     "output_type": "execute_result"
    }
   ],
   "source": [
    "var1 = np.random.rand(2,5,)\n",
    "var1"
   ]
  },
  {
   "cell_type": "markdown",
   "id": "7a7ce179",
   "metadata": {},
   "source": [
    "## randn()"
   ]
  },
  {
   "cell_type": "code",
   "execution_count": 20,
   "id": "522e55e2",
   "metadata": {},
   "outputs": [
    {
     "name": "stdout",
     "output_type": "stream",
     "text": [
      "-0.5099465961059518\n"
     ]
    }
   ],
   "source": [
    "var2 = np.random.randn()\n",
    "print(var2)"
   ]
  },
  {
   "cell_type": "markdown",
   "id": "2a74c959",
   "metadata": {},
   "source": [
    "## randf()"
   ]
  },
  {
   "cell_type": "code",
   "execution_count": 21,
   "id": "069d5190",
   "metadata": {},
   "outputs": [
    {
     "name": "stdout",
     "output_type": "stream",
     "text": [
      "[[0.82853443 0.07036076 0.85172781 0.4778852 ]\n",
      " [0.73243342 0.20266271 0.0551844  0.08320468]\n",
      " [0.08111207 0.81752341 0.3142936  0.89806894]]\n"
     ]
    }
   ],
   "source": [
    "var3 = np.random.ranf((3,4))\n",
    "print(var3)"
   ]
  },
  {
   "cell_type": "markdown",
   "id": "174c45a5",
   "metadata": {},
   "source": [
    "## randint()"
   ]
  },
  {
   "cell_type": "code",
   "execution_count": 22,
   "id": "55a51ca6",
   "metadata": {},
   "outputs": [
    {
     "name": "stdout",
     "output_type": "stream",
     "text": [
      "[[2 1 1]\n",
      " [4 3 3]]\n"
     ]
    }
   ],
   "source": [
    "var4 = np.random.randint(1,5,(2,3))\n",
    "print(var4)"
   ]
  },
  {
   "cell_type": "code",
   "execution_count": 23,
   "id": "d6317497",
   "metadata": {},
   "outputs": [
    {
     "data": {
      "text/plain": [
       "array([[41, 13],\n",
       "       [58, 30],\n",
       "       [ 1, 25],\n",
       "       [36, 33],\n",
       "       [83, 16],\n",
       "       [18, 88],\n",
       "       [41, 81],\n",
       "       [ 0,  2],\n",
       "       [12, 99],\n",
       "       [57, 70],\n",
       "       [53, 23],\n",
       "       [30, 27],\n",
       "       [80, 10],\n",
       "       [14, 88],\n",
       "       [50, 85],\n",
       "       [48, 92],\n",
       "       [86, 35],\n",
       "       [27, 61],\n",
       "       [23, 42],\n",
       "       [51, 59]])"
      ]
     },
     "execution_count": 23,
     "metadata": {},
     "output_type": "execute_result"
    }
   ],
   "source": [
    "x = np.random.choice([i for i in range(100)],size=(20,2))\n",
    "x"
   ]
  },
  {
   "cell_type": "markdown",
   "id": "aa25d5ea",
   "metadata": {},
   "source": [
    "## Random Distribution"
   ]
  },
  {
   "cell_type": "code",
   "execution_count": 24,
   "id": "aaa66d76",
   "metadata": {},
   "outputs": [
    {
     "data": {
      "text/plain": [
       "[0.2, 0.3, 0.4, 0.1]"
      ]
     },
     "execution_count": 24,
     "metadata": {},
     "output_type": "execute_result"
    }
   ],
   "source": [
    "a = [0.2,0.3,0.4,.1]\n",
    "a"
   ]
  },
  {
   "cell_type": "code",
   "execution_count": 25,
   "id": "53c38cd8",
   "metadata": {},
   "outputs": [
    {
     "data": {
      "text/plain": [
       "array([[2, 0, 1, 3, 1, 2, 3, 0, 1, 2, 0, 2, 1, 1, 0, 1, 0, 2, 3, 1, 1, 1,\n",
       "        2, 1, 2, 0, 0, 0, 0, 2, 0, 0, 2, 0, 2, 3, 1, 1, 2, 0, 2, 3, 1, 2,\n",
       "        1, 2, 3, 1, 2, 1, 0, 2, 2, 3, 2, 1, 1, 0, 1, 2, 0, 0, 1, 2, 0, 2,\n",
       "        2, 3, 2, 2, 2, 1, 3, 3, 1, 2, 2, 0, 2, 2, 0, 0, 0, 3, 2, 0, 2, 2,\n",
       "        1, 0],\n",
       "       [1, 0, 0, 2, 2, 2, 3, 1, 2, 2, 1, 0, 1, 1, 0, 3, 1, 2, 3, 0, 1, 3,\n",
       "        1, 2, 0, 0, 3, 2, 2, 1, 1, 3, 2, 1, 2, 3, 2, 1, 1, 2, 2, 3, 2, 0,\n",
       "        0, 0, 1, 2, 1, 1, 2, 2, 2, 1, 3, 1, 1, 1, 2, 2, 2, 0, 2, 1, 2, 2,\n",
       "        2, 2, 2, 2, 1, 2, 0, 0, 1, 2, 2, 0, 2, 2, 2, 1, 1, 0, 0, 1, 1, 3,\n",
       "        1, 1]])"
      ]
     },
     "execution_count": 25,
     "metadata": {},
     "output_type": "execute_result"
    }
   ],
   "source": [
    "x = np.random.choice([i for i in range(4)],p = a,size = (2,90))\n",
    "x"
   ]
  },
  {
   "cell_type": "code",
   "execution_count": 26,
   "id": "ad6faa13",
   "metadata": {},
   "outputs": [],
   "source": [
    "## Shuffling Arrays"
   ]
  },
  {
   "cell_type": "code",
   "execution_count": 27,
   "id": "ce04cf9b",
   "metadata": {},
   "outputs": [
    {
     "data": {
      "text/plain": [
       "array([5, 3, 4, 6, 0, 1, 2, 8, 9, 7])"
      ]
     },
     "execution_count": 27,
     "metadata": {},
     "output_type": "execute_result"
    }
   ],
   "source": [
    "arr = np.array([i for i in range(10)])\n",
    "np.random.shuffle(arr)\n",
    "arr"
   ]
  },
  {
   "cell_type": "markdown",
   "id": "5081fe5b",
   "metadata": {},
   "source": [
    "## Generating Permutation of Arrays"
   ]
  },
  {
   "cell_type": "code",
   "execution_count": 28,
   "id": "9809de11",
   "metadata": {},
   "outputs": [
    {
     "name": "stdout",
     "output_type": "stream",
     "text": [
      "[4 1 2 3 0]\n"
     ]
    }
   ],
   "source": [
    "arr = np.array([i for i in range(5)])\n",
    "print(np.random.permutation(arr)) #-----> leaves the original array same\n"
   ]
  },
  {
   "cell_type": "markdown",
   "id": "9570b9a7",
   "metadata": {},
   "source": [
    "# Data Types in Numpy"
   ]
  },
  {
   "cell_type": "code",
   "execution_count": 29,
   "id": "1a8c1905",
   "metadata": {},
   "outputs": [
    {
     "data": {
      "text/plain": [
       "numpy.dtype[str_]"
      ]
     },
     "execution_count": 29,
     "metadata": {},
     "output_type": "execute_result"
    }
   ],
   "source": [
    "var = np.array(['F','v'])\n",
    "type(var.dtype)"
   ]
  },
  {
   "cell_type": "code",
   "execution_count": 30,
   "id": "f5300f6a",
   "metadata": {},
   "outputs": [
    {
     "name": "stdout",
     "output_type": "stream",
     "text": [
      "int32\n"
     ]
    }
   ],
   "source": [
    "x = np.array([1,2,3,4,5],dtype='i')\n",
    "print(x.dtype)"
   ]
  },
  {
   "cell_type": "code",
   "execution_count": 31,
   "id": "23f6b1de",
   "metadata": {},
   "outputs": [
    {
     "name": "stdout",
     "output_type": "stream",
     "text": [
      "float32\n",
      "[0. 1. 0. 1.]\n"
     ]
    }
   ],
   "source": [
    "x1 = np.array([0,1,0,1],dtype='f')\n",
    "print(x1.dtype)\n",
    "print(x1)"
   ]
  },
  {
   "cell_type": "code",
   "execution_count": 32,
   "id": "859189b3",
   "metadata": {},
   "outputs": [
    {
     "name": "stdout",
     "output_type": "stream",
     "text": [
      "int32\n",
      "[0. 1. 0. 1.]\n",
      "float32\n"
     ]
    }
   ],
   "source": [
    "x2 = np.array([0,1,0,1],dtype='i')\n",
    "new = np.float32(x)\n",
    "print(x2.dtype)\n",
    "print(x1)\n",
    "print(new.dtype)"
   ]
  },
  {
   "cell_type": "markdown",
   "id": "aa74f3b1",
   "metadata": {},
   "source": [
    "## Arithematic Operators in Array"
   ]
  },
  {
   "cell_type": "code",
   "execution_count": 33,
   "id": "050c1587",
   "metadata": {},
   "outputs": [
    {
     "name": "stdout",
     "output_type": "stream",
     "text": [
      "[4 5 6 7]\n"
     ]
    }
   ],
   "source": [
    "var = np.array([1,2,3,4])\n",
    "varadd = var+3\n",
    "print(varadd)"
   ]
  },
  {
   "cell_type": "code",
   "execution_count": 34,
   "id": "aa664148",
   "metadata": {},
   "outputs": [
    {
     "name": "stdout",
     "output_type": "stream",
     "text": [
      "[0 2 4 6 8]\n"
     ]
    }
   ],
   "source": [
    "var1 = np.array([i for i in range(5)])\n",
    "var2 = np.array([i for i in range(5)])\n",
    "varadd = np.add(var1,var2)\n",
    "print(varadd)"
   ]
  },
  {
   "cell_type": "code",
   "execution_count": 35,
   "id": "796b7b26",
   "metadata": {},
   "outputs": [
    {
     "name": "stdout",
     "output_type": "stream",
     "text": [
      "[0 0 0 0 0]\n"
     ]
    }
   ],
   "source": [
    "var1 = np.array([i for i in range(5)])\n",
    "var2 = np.array([i for i in range(5)])\n",
    "varadd = np.subtract(var1,var2)\n",
    "print(varadd)"
   ]
  },
  {
   "cell_type": "code",
   "execution_count": 36,
   "id": "8613b0a9",
   "metadata": {},
   "outputs": [
    {
     "name": "stdout",
     "output_type": "stream",
     "text": [
      "[ 0  1  4  9 16]\n"
     ]
    }
   ],
   "source": [
    "var1 = np.array([i for i in range(5)])\n",
    "var2 = np.array([i for i in range(5)])\n",
    "varadd = np.multiply(var1,var2)\n",
    "print(varadd)"
   ]
  },
  {
   "cell_type": "code",
   "execution_count": 37,
   "id": "3307350a",
   "metadata": {},
   "outputs": [
    {
     "name": "stdout",
     "output_type": "stream",
     "text": [
      "[nan  1.  1.  1.  1.]\n"
     ]
    },
    {
     "name": "stderr",
     "output_type": "stream",
     "text": [
      "/var/folders/q8/dv8fwkl52qx_2yh5w017lk340000gn/T/ipykernel_54726/2257501209.py:3: RuntimeWarning: invalid value encountered in true_divide\n",
      "  varadd = np.divide(var1,var2)\n"
     ]
    }
   ],
   "source": [
    "var1 = np.array([i for i in range(5)])\n",
    "var2 = np.array([i for i in range(5)])\n",
    "varadd = np.divide(var1,var2)\n",
    "print(varadd)"
   ]
  },
  {
   "cell_type": "code",
   "execution_count": 38,
   "id": "3e8a105f",
   "metadata": {},
   "outputs": [
    {
     "name": "stdout",
     "output_type": "stream",
     "text": [
      "[0 0 0 0 0]\n"
     ]
    },
    {
     "name": "stderr",
     "output_type": "stream",
     "text": [
      "/var/folders/q8/dv8fwkl52qx_2yh5w017lk340000gn/T/ipykernel_54726/1245010291.py:3: RuntimeWarning: divide by zero encountered in remainder\n",
      "  varadd = np.mod(var1,var2)\n"
     ]
    }
   ],
   "source": [
    "var1 = np.array([i for i in range(5)])\n",
    "var2 = np.array([i for i in range(5)])\n",
    "varadd = np.mod(var1,var2)\n",
    "print(varadd)"
   ]
  },
  {
   "cell_type": "code",
   "execution_count": 39,
   "id": "00c8cf8a",
   "metadata": {},
   "outputs": [
    {
     "name": "stdout",
     "output_type": "stream",
     "text": [
      "[1 0 0 0]\n"
     ]
    }
   ],
   "source": [
    "var1 = np.array([i for i in range(1,5)])\n",
    "var2 = np.array([i for i in range(1,5)])\n",
    "varadd = np.reciprocal(var1)\n",
    "print((varadd))"
   ]
  },
  {
   "cell_type": "markdown",
   "id": "9384a829",
   "metadata": {},
   "source": [
    "## Arithematic Functions"
   ]
  },
  {
   "cell_type": "code",
   "execution_count": 40,
   "id": "15328284",
   "metadata": {},
   "outputs": [
    {
     "name": "stdout",
     "output_type": "stream",
     "text": [
      "1\n",
      "5\n"
     ]
    }
   ],
   "source": [
    "var = np.array([i  for i in range (1,6)])\n",
    "print(np.min(var))\n",
    "print(np.max(var))"
   ]
  },
  {
   "cell_type": "code",
   "execution_count": 41,
   "id": "ab6bd602",
   "metadata": {},
   "outputs": [
    {
     "name": "stdout",
     "output_type": "stream",
     "text": [
      "0\n",
      "4\n"
     ]
    }
   ],
   "source": [
    "var = np.array([i  for i in range (1,6)])\n",
    "print(np.argmin(var))\n",
    "print(np.argmax(var))"
   ]
  },
  {
   "cell_type": "code",
   "execution_count": 42,
   "id": "d37abbae",
   "metadata": {},
   "outputs": [
    {
     "name": "stdout",
     "output_type": "stream",
     "text": [
      "[5 6 7 8]\n",
      "[[1.         1.41421356 1.73205081 2.        ]\n",
      " [2.23606798 2.44948974 2.64575131 2.82842712]]\n"
     ]
    }
   ],
   "source": [
    "var1 = np.array([[i for i in range(1,5)],[j for j in range(5,9)]])\n",
    "print(np.max(var1,axis=0))\n",
    "print(np.sqrt(var1))"
   ]
  },
  {
   "cell_type": "code",
   "execution_count": 43,
   "id": "e357875e",
   "metadata": {},
   "outputs": [
    {
     "name": "stdout",
     "output_type": "stream",
     "text": [
      "[ 0.          0.84147098  0.90929743  0.14112001 -0.7568025  -0.95892427\n",
      " -0.2794155   0.6569866   0.98935825  0.41211849 -0.54402111 -0.99999021\n",
      " -0.53657292  0.42016704  0.99060736  0.65028784 -0.28790332 -0.96139749\n",
      " -0.75098725  0.14987721  0.91294525  0.83665564 -0.00885131 -0.8462204\n",
      " -0.90557836 -0.13235175  0.76255845  0.95637593  0.27090579 -0.66363388\n",
      " -0.98803162 -0.40403765  0.55142668  0.99991186  0.52908269 -0.42818267\n",
      " -0.99177885 -0.64353813  0.29636858  0.96379539  0.74511316 -0.15862267\n",
      " -0.91652155 -0.83177474  0.01770193  0.85090352  0.90178835  0.12357312\n",
      " -0.76825466 -0.95375265 -0.26237485  0.67022918  0.98662759  0.39592515\n",
      " -0.55878905 -0.99975517 -0.521551    0.43616476  0.99287265  0.63673801\n",
      " -0.30481062 -0.96611777 -0.7391807   0.1673557   0.92002604  0.82682868\n",
      " -0.02655115 -0.85551998 -0.89792768 -0.11478481  0.77389068  0.95105465\n",
      "  0.25382336 -0.67677196 -0.98514626 -0.38778164  0.56610764  0.99952016\n",
      "  0.51397846 -0.44411267 -0.99388865 -0.62988799  0.31322878  0.96836446\n",
      "  0.73319032 -0.17607562 -0.92345845 -0.82181784  0.0353983   0.86006941\n",
      "  0.89399666  0.10598751 -0.77946607 -0.94828214 -0.24525199  0.68326171\n",
      "  0.98358775  0.37960774 -0.57338187 -0.99920683]\n"
     ]
    }
   ],
   "source": [
    "var2 = np.array([i for i in range(100)])\n",
    "print(np.sin(var2))"
   ]
  },
  {
   "cell_type": "code",
   "execution_count": 44,
   "id": "b07bab7c",
   "metadata": {},
   "outputs": [
    {
     "name": "stdout",
     "output_type": "stream",
     "text": [
      "[ 1.          0.54030231 -0.41614684 -0.9899925  -0.65364362  0.28366219\n",
      "  0.96017029  0.75390225 -0.14550003 -0.91113026 -0.83907153  0.0044257\n",
      "  0.84385396  0.90744678  0.13673722 -0.75968791 -0.95765948 -0.27516334\n",
      "  0.66031671  0.98870462  0.40808206 -0.54772926 -0.99996083 -0.53283302\n",
      "  0.42417901  0.99120281  0.64691932 -0.29213881 -0.96260587 -0.74805753\n",
      "  0.15425145  0.91474236  0.83422336 -0.01327675 -0.84857027 -0.90369221\n",
      " -0.12796369  0.76541405  0.95507364  0.26664293 -0.66693806 -0.98733928\n",
      " -0.39998531  0.5551133   0.99984331  0.52532199 -0.43217794 -0.99233547\n",
      " -0.64014434  0.30059254  0.96496603  0.7421542  -0.16299078 -0.91828279\n",
      " -0.82930983  0.02212676  0.85322011  0.89986683  0.11918014 -0.77108022\n",
      " -0.95241298 -0.25810164  0.67350716  0.98589658  0.39185723 -0.56245385\n",
      " -0.99964746 -0.5177698   0.44014302  0.99339038  0.6333192  -0.30902273\n",
      " -0.96725059 -0.73619272  0.17171734  0.92175127  0.82433133 -0.03097503\n",
      " -0.85780309 -0.89597095 -0.11038724  0.77668598  0.9496777   0.24954012\n",
      " -0.6800235  -0.98437664 -0.38369844  0.56975033  0.99937328  0.51017704\n",
      " -0.44807362 -0.99436746 -0.62644445  0.3174287   0.96945937  0.73017356\n",
      " -0.18043045 -0.92514754 -0.81928825  0.03982088]\n"
     ]
    }
   ],
   "source": [
    "var2 = np.array([i for i in range(100)])\n",
    "print(np.cos(var2))"
   ]
  },
  {
   "cell_type": "code",
   "execution_count": 45,
   "id": "537ee473",
   "metadata": {},
   "outputs": [
    {
     "name": "stdout",
     "output_type": "stream",
     "text": [
      "[ 0  1  3  6 10 15 21 28 36 45]\n"
     ]
    }
   ],
   "source": [
    "var3 = np.array([i for i in range(10)])\n",
    "print(np.cumsum(var3))"
   ]
  },
  {
   "cell_type": "code",
   "execution_count": 46,
   "id": "d38d6375",
   "metadata": {},
   "outputs": [],
   "source": [
    "## Shape"
   ]
  },
  {
   "cell_type": "code",
   "execution_count": 47,
   "id": "6b621db7",
   "metadata": {},
   "outputs": [
    {
     "name": "stdout",
     "output_type": "stream",
     "text": [
      "(2, 4)\n"
     ]
    }
   ],
   "source": [
    "var = np.array([[i for i in range(1,5)],[i for i in range(6,10)]])\n",
    "print(var.shape)"
   ]
  },
  {
   "cell_type": "code",
   "execution_count": 48,
   "id": "8da57d72",
   "metadata": {},
   "outputs": [
    {
     "name": "stdout",
     "output_type": "stream",
     "text": [
      "(1, 1, 1, 1, 10)\n",
      "[[[[[10 11 12 13 14 15 16 17 18 19]]]]]\n"
     ]
    }
   ],
   "source": [
    "var1 = np.array([i for i in range(10,20)],ndmin=5)\n",
    "print(var1.shape)\n",
    "print(var1)"
   ]
  },
  {
   "cell_type": "code",
   "execution_count": 49,
   "id": "e427e2e6",
   "metadata": {},
   "outputs": [],
   "source": [
    "## Reshape "
   ]
  },
  {
   "cell_type": "code",
   "execution_count": 50,
   "id": "9f4f1aa6",
   "metadata": {},
   "outputs": [
    {
     "name": "stdout",
     "output_type": "stream",
     "text": [
      "1\n",
      "2\n",
      "[[15 14 13]\n",
      " [12 11 10]\n",
      " [ 9  8  7]\n",
      " [ 6  5  4]\n",
      " [ 3  2  1]]\n"
     ]
    }
   ],
   "source": [
    "var2 = np.array([i for i in range(15,0,-1)])\n",
    "x = var2.reshape(5,3)\n",
    "print(var2.ndim)\n",
    "print(x.ndim)\n",
    "print(x)"
   ]
  },
  {
   "cell_type": "code",
   "execution_count": 51,
   "id": "2c69644f",
   "metadata": {},
   "outputs": [
    {
     "name": "stdout",
     "output_type": "stream",
     "text": [
      "1\n",
      "1\n",
      "[[[16 15]\n",
      "  [14 13]]\n",
      "\n",
      " [[12 11]\n",
      "  [10  9]]\n",
      "\n",
      " [[ 8  7]\n",
      "  [ 6  5]]\n",
      "\n",
      " [[ 4  3]\n",
      "  [ 2  1]]]\n"
     ]
    },
    {
     "data": {
      "text/plain": [
       "array([16, 15, 14, 13, 12, 11, 10,  9,  8,  7,  6,  5,  4,  3,  2,  1])"
      ]
     },
     "execution_count": 51,
     "metadata": {},
     "output_type": "execute_result"
    }
   ],
   "source": [
    "var3 = np.array([i for i in range(16,0,-1)])\n",
    "x1 = var3.reshape(4,2,2)\n",
    "print(var3.ndim)\n",
    "print(x2.ndim)\n",
    "print(x1)\n",
    "\n",
    "\n",
    "one = x1.reshape(-1)\n",
    "one"
   ]
  },
  {
   "cell_type": "markdown",
   "id": "8fdcf3f4",
   "metadata": {},
   "source": [
    "## Broadcasting"
   ]
  },
  {
   "cell_type": "code",
   "execution_count": 61,
   "id": "d38c102b",
   "metadata": {},
   "outputs": [
    {
     "name": "stdout",
     "output_type": "stream",
     "text": [
      "(4,)\n",
      "(4, 1)\n",
      "[1 2 3 4]\n",
      "[[1]\n",
      " [2]\n",
      " [3]\n",
      " [4]]\n",
      "[[2 3 4 5]\n",
      " [3 4 5 6]\n",
      " [4 5 6 7]\n",
      " [5 6 7 8]]\n"
     ]
    }
   ],
   "source": [
    "var1 = np.array([1,2,3,4])\n",
    "var2 = np.array([[1],[2],[3],[4]])\n",
    "\n",
    "print(var1.shape)\n",
    "print(var2.shape)\n",
    "print(var1)\n",
    "print(var2)\n",
    "print(var1+var2)"
   ]
  },
  {
   "cell_type": "markdown",
   "id": "90966f5b",
   "metadata": {},
   "source": [
    "## Indexing and Slicing"
   ]
  },
  {
   "cell_type": "code",
   "execution_count": 64,
   "id": "1ff03aec",
   "metadata": {},
   "outputs": [
    {
     "name": "stdout",
     "output_type": "stream",
     "text": [
      "6\n"
     ]
    }
   ],
   "source": [
    "var = np.array([i for i in range(9,5,-1)])\n",
    "print(var[-1])"
   ]
  },
  {
   "cell_type": "code",
   "execution_count": 67,
   "id": "5c08317f",
   "metadata": {},
   "outputs": [
    {
     "name": "stdout",
     "output_type": "stream",
     "text": [
      "[[4 5 6]\n",
      " [1 2 3]]\n",
      "2\n",
      "5\n"
     ]
    }
   ],
   "source": [
    "var1 = np.array([[i for i in range(4,7)],[1,2,3]])\n",
    "print(var1)\n",
    "print(var1.ndim)\n",
    "print(var1[0,1])"
   ]
  },
  {
   "cell_type": "code",
   "execution_count": 110,
   "id": "12d3c382",
   "metadata": {},
   "outputs": [
    {
     "name": "stdout",
     "output_type": "stream",
     "text": [
      "[[[[1 2 3]\n",
      "   [4 5 6]]\n",
      "\n",
      "  [[1 2 3]\n",
      "   [4 5 6]]]]\n",
      "4\n",
      "5\n"
     ]
    }
   ],
   "source": [
    "var2 = np.array([[[1,2,3],[4,5,6]],[[1,2,3],[4,5,6]]],ndmin=4)\n",
    "print(var2)\n",
    "print(var2.ndim)\n",
    "print(var2[0,0,1,1])"
   ]
  },
  {
   "cell_type": "markdown",
   "id": "b785d65c",
   "metadata": {},
   "source": [
    "## Slicing"
   ]
  },
  {
   "cell_type": "code",
   "execution_count": 98,
   "id": "5327fc5b",
   "metadata": {},
   "outputs": [
    {
     "name": "stdout",
     "output_type": "stream",
     "text": [
      "[0 1 2 3 4 5 6 7]\n",
      "[7 3]\n"
     ]
    }
   ],
   "source": [
    "var = np.array([i for i in range(8)])\n",
    "print(var)\n",
    "print(var[::-4])"
   ]
  },
  {
   "cell_type": "code",
   "execution_count": 107,
   "id": "e5f7ab56",
   "metadata": {},
   "outputs": [
    {
     "name": "stdout",
     "output_type": "stream",
     "text": [
      "[[[0 1 2 3 4 5 6 7]\n",
      "  [8 7 6 5 4 3 2 1]]]\n",
      "[1 2]\n"
     ]
    }
   ],
   "source": [
    "var2 = np.array([[[i for i in range(8)],[i for i in range(8,0,-1)]]])\n",
    "print(var2)\n",
    "print(var2[0,0,1:3])\n",
    "#print(var2[1,::-1])"
   ]
  },
  {
   "cell_type": "markdown",
   "id": "b32bc857",
   "metadata": {},
   "source": [
    "## Iterating Numpy Arrays"
   ]
  },
  {
   "cell_type": "code",
   "execution_count": 112,
   "id": "9151f278",
   "metadata": {},
   "outputs": [
    {
     "name": "stdout",
     "output_type": "stream",
     "text": [
      "0\n",
      "1\n",
      "2\n",
      "3\n",
      "4\n",
      "5\n",
      "6\n",
      "7\n"
     ]
    }
   ],
   "source": [
    "var = np.array([i for i in range(8)])\n",
    "for i in var:\n",
    "    print(i)"
   ]
  },
  {
   "cell_type": "code",
   "execution_count": 116,
   "id": "e977d81c",
   "metadata": {},
   "outputs": [
    {
     "name": "stdout",
     "output_type": "stream",
     "text": [
      "1\n",
      "2\n",
      "3\n",
      "3\n",
      "2\n",
      "1\n"
     ]
    }
   ],
   "source": [
    "var = np.array([[1,2,3],[3,2,1]])\n",
    "for j in var:\n",
    "    # print(j)\n",
    "    for i in j:\n",
    "        print(i)"
   ]
  },
  {
   "cell_type": "code",
   "execution_count": 120,
   "id": "d3a9d804",
   "metadata": {},
   "outputs": [
    {
     "name": "stdout",
     "output_type": "stream",
     "text": [
      "(2, 2, 3)\n",
      "[[[1 2 3]\n",
      "  [4 5 6]]\n",
      "\n",
      " [[1 2 3]\n",
      "  [4 5 6]]]\n",
      "3\n",
      "1\n",
      "2\n",
      "3\n",
      "4\n",
      "5\n",
      "6\n",
      "1\n",
      "2\n",
      "3\n",
      "4\n",
      "5\n",
      "6\n"
     ]
    }
   ],
   "source": [
    "x = np.array([[[1,2,3],[4,5,6]],[[1,2,3],[4,5,6]]])\n",
    "print(x.shape)\n",
    "print(x)\n",
    "print(x.ndim)\n",
    "\n",
    "for i in x:\n",
    "    for j in i:\n",
    "        for k in j:\n",
    "            print(k)\n"
   ]
  },
  {
   "cell_type": "code",
   "execution_count": 121,
   "id": "04cd4183",
   "metadata": {},
   "outputs": [
    {
     "name": "stdout",
     "output_type": "stream",
     "text": [
      "(1, 2, 2, 3)\n",
      "[[[[1 2 3]\n",
      "   [4 5 6]]\n",
      "\n",
      "  [[1 2 3]\n",
      "   [4 5 6]]]]\n",
      "4\n",
      "1\n",
      "2\n",
      "3\n",
      "4\n",
      "5\n",
      "6\n",
      "1\n",
      "2\n",
      "3\n",
      "4\n",
      "5\n",
      "6\n"
     ]
    }
   ],
   "source": [
    "x = np.array([[[1,2,3],[4,5,6]],[[1,2,3],[4,5,6]]],ndmin=4)\n",
    "print(x.shape)\n",
    "print(x)\n",
    "print(x.ndim)\n",
    "\n",
    "for i in x:\n",
    "    for j in i:\n",
    "        for k in j:\n",
    "            for l in k :\n",
    "                print(l)\n"
   ]
  },
  {
   "cell_type": "code",
   "execution_count": 134,
   "id": "ea38343f",
   "metadata": {},
   "outputs": [
    {
     "name": "stdout",
     "output_type": "stream",
     "text": [
      "(2, 2, 3)\n",
      "[[[1 2 3]\n",
      "  [4 5 6]]\n",
      "\n",
      " [[1 2 3]\n",
      "  [4 5 6]]]\n",
      "3\n",
      "b'1'\n",
      "b'2'\n",
      "b'3'\n",
      "b'4'\n",
      "b'5'\n",
      "b'6'\n",
      "b'1'\n",
      "b'2'\n",
      "b'3'\n",
      "b'4'\n",
      "b'5'\n",
      "b'6'\n"
     ]
    }
   ],
   "source": [
    "x = np.array([[[1,2,3],[4,5,6]],[[1,2,3],[4,5,6]]])\n",
    "print(x.shape)\n",
    "print(x)\n",
    "print(x.ndim)\n",
    "\n",
    "for i in np.nditer(x,flags=['buffered'],op_dtypes=['S']):\n",
    "    print(i)\n"
   ]
  },
  {
   "cell_type": "code",
   "execution_count": 138,
   "id": "cbda9815",
   "metadata": {},
   "outputs": [
    {
     "name": "stdout",
     "output_type": "stream",
     "text": [
      "(1, 1, 1, 1, 1, 1, 1, 2, 2, 3)\n",
      "[[[[[[[[[[1 2 3]\n",
      "         [4 5 6]]\n",
      "\n",
      "        [[1 2 3]\n",
      "         [4 5 6]]]]]]]]]]\n",
      "10\n",
      "(0, 0, 0, 0, 0, 0, 0, 0, 0, 0) 1\n",
      "(0, 0, 0, 0, 0, 0, 0, 0, 0, 1) 2\n",
      "(0, 0, 0, 0, 0, 0, 0, 0, 0, 2) 3\n",
      "(0, 0, 0, 0, 0, 0, 0, 0, 1, 0) 4\n",
      "(0, 0, 0, 0, 0, 0, 0, 0, 1, 1) 5\n",
      "(0, 0, 0, 0, 0, 0, 0, 0, 1, 2) 6\n",
      "(0, 0, 0, 0, 0, 0, 0, 1, 0, 0) 1\n",
      "(0, 0, 0, 0, 0, 0, 0, 1, 0, 1) 2\n",
      "(0, 0, 0, 0, 0, 0, 0, 1, 0, 2) 3\n",
      "(0, 0, 0, 0, 0, 0, 0, 1, 1, 0) 4\n",
      "(0, 0, 0, 0, 0, 0, 0, 1, 1, 1) 5\n",
      "(0, 0, 0, 0, 0, 0, 0, 1, 1, 2) 6\n"
     ]
    }
   ],
   "source": [
    "## Toget the iteratons\n",
    "x = np.array([[[1,2,3],[4,5,6]],[[1,2,3],[4,5,6]]],ndmin=10)\n",
    "print(x.shape)\n",
    "print(x)\n",
    "print(x.ndim)\n",
    "\n",
    "for i,d in np.ndenumerate(x):\n",
    "    print(i,d)\n"
   ]
  },
  {
   "cell_type": "code",
   "execution_count": null,
   "id": "d9985059",
   "metadata": {},
   "outputs": [],
   "source": []
  }
 ],
 "metadata": {
  "kernelspec": {
   "display_name": "Python 3 (ipykernel)",
   "language": "python",
   "name": "python3"
  },
  "language_info": {
   "codemirror_mode": {
    "name": "ipython",
    "version": 3
   },
   "file_extension": ".py",
   "mimetype": "text/x-python",
   "name": "python",
   "nbconvert_exporter": "python",
   "pygments_lexer": "ipython3",
   "version": "3.8.16"
  }
 },
 "nbformat": 4,
 "nbformat_minor": 5
}
